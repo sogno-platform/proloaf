{
 "cells": [
  {
   "cell_type": "markdown",
   "id": "950c140b",
   "metadata": {},
   "source": [
    "# How to create a Saliency Map using saliency_map.py"
   ]
  },
  {
   "cell_type": "markdown",
   "id": "ea7204bc",
   "metadata": {},
   "source": [
    "Saliency_map.py implements a Saliency Map handler to create saliency maps for RNN Encoder-Decoder forecasting models. It uses the method of perturbation to find out which features are the most important for the model. It also takes the time dimension into account, so highlight the most important timesteps.\n",
    "\n",
    "The End result is a colour coded two dimensional Time x Feature heatmap. Red signifies important features and time steps, while blue signifies, that it's not important for the forecast, wheter or not the parameter is noisy."
   ]
  },
  {
   "cell_type": "markdown",
   "id": "fca4abce",
   "metadata": {},
   "source": [
    "## Choosing a target"
   ]
  },
  {
   "cell_type": "markdown",
   "id": "252b062d",
   "metadata": {},
   "source": [
    "First of all, the data on which the evaluation should take place has to be chosen. Put your data in the 'proloaf/data' folder. In this example, data from the \"open opwer system data\" website is used (https://data.open-power-system-data.org/time_series/)."
   ]
  },
  {
   "cell_type": "markdown",
   "id": "87411327",
   "metadata": {},
   "source": [
    "## Train your model"
   ]
  },
  {
   "cell_type": "markdown",
   "id": "68fae92e",
   "metadata": {},
   "source": [
    "if the model has already been trained and saved, you can skip this step"
   ]
  },
  {
   "cell_type": "markdown",
   "id": "78eea3ce",
   "metadata": {},
   "source": [
    "Create a folder for the model in 'targets' and set the configurations in the \"config.json\". The example config file looks like this: "
   ]
  },
  {
   "cell_type": "code",
   "execution_count": null,
   "id": "81c6fa52",
   "metadata": {},
   "outputs": [],
   "source": [
    "{\n",
    "    \"data_path\": \"./data/opsd.csv\",\n",
    "    \"output_path\": \"./oracles/\",\n",
    "    \"exploration_path\": \"./targets/opsd/tuning.json\",\n",
    "    \"evaluation_path\": \"./oracles/eval_opsd_recurrent/\",\n",
    "    \"log_path\": \"./logs/\",\n",
    "    \"model_name\": \"opsd_recurrent_example\",\n",
    "    \"target_id\": [\n",
    "        \"DE_load_actual_entsoe_transparency\"\n",
    "    ],\n",
    "    \"target_list\": null,\n",
    "    \"start_date\": null,\n",
    "    \"history_horizon\": 147,\n",
    "    \"forecast_horizon\": 24,\n",
    "    \"cap_limit\": 1,\n",
    "    \"train_split\": 0.6,\n",
    "    \"validation_split\": 0.8,\n",
    "    \"periodicity\": 24,\n",
    "    \"optimizer_name\": \"adam\",\n",
    "    \"exploration\": false,\n",
    "    \"cuda_id\": null,\n",
    "    \"feature_groups\": [\n",
    "        {\n",
    "            \"name\": \"main\",\n",
    "            \"scaler\": [\n",
    "                \"minmax\",\n",
    "                0.0,\n",
    "                1.0\n",
    "            ],\n",
    "            \"features\": [\n",
    "                \"DE_load_actual_entsoe_transparency\",\n",
    "                \"DE_temperature\",\n",
    "                \"DE_radiation_direct_horizontal\",\n",
    "                \"DE_radiation_diffuse_horizontal\"\n",
    "            ]\n",
    "        },\n",
    "        {\n",
    "            \"name\": \"aux\",\n",
    "            \"scaler\": null,\n",
    "            \"features\": [\n",
    "                \"hour_sin\",\n",
    "                \"weekday_sin\",\n",
    "                \"mnth_sin\",\n",
    "                \"hour_cos\",\n",
    "                \"weekday_cos\",\n",
    "                \"mnth_cos\"\n",
    "            ]\n",
    "        }\n",
    "    ],\n",
    "    \"encoder_features\": [\n",
    "        \"DE_load_actual_entsoe_transparency\",\n",
    "        \"DE_temperature\",\n",
    "        \"DE_radiation_direct_horizontal\",\n",
    "        \"DE_radiation_diffuse_horizontal\"\n",
    "    ],\n",
    "    \"decoder_features\": [\n",
    "        \"hour_sin\",\n",
    "        \"weekday_sin\",\n",
    "        \"mnth_sin\",\n",
    "        \"hour_cos\",\n",
    "        \"weekday_cos\",\n",
    "        \"mnth_cos\"\n",
    "    ],\n",
    "    \"max_epochs\": 50,\n",
    "    \"batch_size\": 32,\n",
    "    \"learning_rate\": 9.9027931032814e-05,\n",
    "    \"early_stopping_patience\": 7,\n",
    "    \"early_stopping_margin\": 0.0,\n",
    "    \"model_class\": \"recurrent\",\n",
    "    \"model_parameters\": {\n",
    "        \"recurrent\": {\n",
    "            \"core_net\": \"torch.nn.LSTM\",\n",
    "            \"core_layers\": 1,\n",
    "            \"dropout_fc\": 0.4,\n",
    "            \"dropout_core\": 0.3,\n",
    "            \"rel_linear_hidden_size\": 1.0,\n",
    "            \"rel_core_hidden_size\": 1.0,\n",
    "            \"relu_leak\": 0.1\n",
    "        },\n",
    "        \"simple_transformer\": {\n",
    "            \"num_layers\": 3,\n",
    "            \"dropout\": 0.4,\n",
    "            \"n_heads\": 6\n",
    "        }\n",
    "    }\n",
    "}"
   ]
  },
  {
   "cell_type": "markdown",
   "id": "fded7682",
   "metadata": {},
   "source": [
    "now train the model using the train.py skript. For more information on how to train a model, take a look at the other notebooks or at the user documentation (http://sogno.energy/proloaf/docs/overview/) "
   ]
  },
  {
   "cell_type": "code",
   "execution_count": null,
   "id": "e66a009b",
   "metadata": {},
   "outputs": [],
   "source": [
    "python ./src/train.py -s opsd_example"
   ]
  },
  {
   "cell_type": "markdown",
   "id": "0e36b24d",
   "metadata": {},
   "source": [
    "You should now have a trained model in the \"oracles\" folder"
   ]
  },
  {
   "cell_type": "markdown",
   "id": "bfd75784",
   "metadata": {},
   "source": [
    "## configure the saliency map handler"
   ]
  },
  {
   "cell_type": "markdown",
   "id": "8dee25c3",
   "metadata": {},
   "source": [
    " now the parameters for the saliency map calculation should be configured. The  saliency.json file should be in the targets folder (e.g targets/opsd_example).\n",
    " \n",
    " The following Parameters can be configured:\n",
    " \n",
    " - rel_interpretation_path: the path, where the output files are going to be saved to\n",
    " - date: The date for which the saliency map should be created. This is the date of the first timestep of the forecasting horizon\n",
    " - ref_batch_size: The number of different random noise time series to be added to the original input data. This determines the number of references.\n",
    " - max_epochs: The maximum number of epochs for the optimization of the objective function.\n",
    " - n_trials: The number of trials of the optuna study. This determines the number of trials with different hyperparameters. The only current hyperparameter is the learning rate of the optimizer.\n",
    " - lr_low: The lowest learning rate a study trial can take\n",
    " - lr_high The highest learning rate a study trial can take \n",
    " - lambda: the weight that determines the size of the mask weight error. A high lambda value means that high mask values are penalized more in the objective function, so that the mask values turn out to be smaller overall.\n",
    " - cuda_id: the cuda id, which determines what cuda device is going to be used for the pytorch module (https://pytorch.org/)\n",
    " \n",
    " The config file should be in json format could looks like this:"
   ]
  },
  {
   "cell_type": "code",
   "execution_count": null,
   "id": "2d7b7237",
   "metadata": {},
   "outputs": [],
   "source": [
    "{\n",
    "    \"rel_interpretation_path\": \"oracles/interpretation/\",\n",
    "    \"date\": \"27.07.2019 00:00:00\",\n",
    "    \"ref_batch_size\": 2,\n",
    "    \"max_epochs\": 1,\n",
    "    \"n_trials\": 1,\n",
    "    \"lr_low\": 1e-6,\n",
    "    \"lr_high\": 0.1,\n",
    "    \"lambda\": 1,\n",
    "    \"cuda_id\" : 0\n",
    "}"
   ]
  },
  {
   "cell_type": "markdown",
   "id": "8aea7e3b",
   "metadata": {},
   "source": [
    "# Run the Saliency Map optimizer"
   ]
  },
  {
   "cell_type": "markdown",
   "id": "24e387b9",
   "metadata": {},
   "source": [
    "Import the Saliency Map Handler class"
   ]
  },
  {
   "cell_type": "code",
   "execution_count": 35,
   "id": "e125b112",
   "metadata": {},
   "outputs": [],
   "source": [
    "import src.proloaf.saliency_map as sm"
   ]
  },
  {
   "cell_type": "markdown",
   "id": "77f963dd",
   "metadata": {},
   "source": [
    "First an instance of the saliency map handler has to be made. The name of the example targe5t station is opsd_example"
   ]
  },
  {
   "cell_type": "code",
   "execution_count": null,
   "id": "863fd7ec",
   "metadata": {
    "scrolled": true
   },
   "outputs": [],
   "source": [
    "target_station_name = 'opsd_example'\n",
    "saliency_map_handler = sm.SaliencyMapHandler(target_station_name)"
   ]
  },
  {
   "cell_type": "markdown",
   "id": "67fe79a0",
   "metadata": {},
   "source": [
    "now that we have a class instance, the create_saliency_map() function can be called."
   ]
  },
  {
   "cell_type": "code",
   "execution_count": null,
   "id": "8b727f78",
   "metadata": {},
   "outputs": [],
   "source": [
    "saliency_map_handler.create_saliency_map()"
   ]
  },
  {
   "cell_type": "markdown",
   "id": "c91dc5c9",
   "metadata": {},
   "source": [
    "# Useful functions"
   ]
  },
  {
   "cell_type": "markdown",
   "id": "b2e85170",
   "metadata": {},
   "source": [
    "at any point now the class instance can be saved, so that the results can be loaded again at any point in the future"
   ]
  },
  {
   "cell_type": "code",
   "execution_count": null,
   "id": "6456e889",
   "metadata": {},
   "outputs": [],
   "source": [
    "saliency_map_handler.save()"
   ]
  },
  {
   "cell_type": "markdown",
   "id": "6bcec871",
   "metadata": {},
   "source": [
    "if you want to load a previously saved class instance call load()"
   ]
  },
  {
   "cell_type": "code",
   "execution_count": null,
   "id": "124654c2",
   "metadata": {},
   "outputs": [],
   "source": [
    "saliency_map_handler = sm.SaliencyMapHandlerload(target_station_name)"
   ]
  },
  {
   "cell_type": "markdown",
   "id": "51207acc",
   "metadata": {},
   "source": [
    "The visualize the result and save a plot, the plot() function should be called. "
   ]
  },
  {
   "cell_type": "code",
   "execution_count": null,
   "id": "d4905b0e",
   "metadata": {},
   "outputs": [],
   "source": [
    "saliency_map_handler.plot()"
   ]
  },
  {
   "cell_type": "markdown",
   "id": "cba3294e",
   "metadata": {},
   "source": [
    "If you also want to how the perturbed prediction performed in comparison to the unperturbed one use plot_predictions()"
   ]
  },
  {
   "cell_type": "code",
   "execution_count": null,
   "id": "f9d9b6e5",
   "metadata": {},
   "outputs": [],
   "source": [
    "saliency_map_handler.plot_predictions()"
   ]
  },
  {
   "cell_type": "markdown",
   "id": "1aeafcdf",
   "metadata": {},
   "source": [
    "Specific values of the saliency map are also accessable "
   ]
  },
  {
   "cell_type": "code",
   "execution_count": null,
   "id": "2ab75de3",
   "metadata": {},
   "outputs": [],
   "source": [
    "saliency_map = saliency_map_handler.saliency_map\n",
    "encoder_saliency_map = saliency_map[0]\n",
    "decoder_saliency_map = saliency_map[1]"
   ]
  },
  {
   "cell_type": "markdown",
   "id": "c5520488",
   "metadata": {},
   "source": [
    "Similarly, the tensor of the model prediction can be accessed via:"
   ]
  },
  {
   "cell_type": "code",
   "execution_count": null,
   "id": "f76ac94d",
   "metadata": {},
   "outputs": [],
   "source": [
    "saliency_map_handler.model_prediction"
   ]
  },
  {
   "cell_type": "markdown",
   "id": "f54f145a",
   "metadata": {},
   "source": [
    "Also the inputs and references can be accessed via:"
   ]
  },
  {
   "cell_type": "code",
   "execution_count": null,
   "id": "39fef53d",
   "metadata": {},
   "outputs": [],
   "source": [
    "encoder_input = saliency_map_handler.encoder_input\n",
    "encoder_references = saliency_map_handler.encoder_references\n",
    "decoder_input = saliency_map_handler.decoder_input\n",
    "decoder_references = saliency_map_handler.decoder_references"
   ]
  },
  {
   "cell_type": "markdown",
   "id": "22a2c453",
   "metadata": {},
   "source": [
    "To look at the set date and time of the class instance use:"
   ]
  },
  {
   "cell_type": "code",
   "execution_count": null,
   "id": "b653ab2b",
   "metadata": {},
   "outputs": [],
   "source": [
    "date_time = saliency_map_h.datetime"
   ]
  },
  {
   "cell_type": "markdown",
   "id": "e7e2fc6b",
   "metadata": {},
   "source": [
    "If you want to know the corresponding index of the date in the dataset you can call:"
   ]
  },
  {
   "cell_type": "code",
   "execution_count": null,
   "id": "af99cd74",
   "metadata": {},
   "outputs": [],
   "source": [
    "index = saliency_map_h.time_step"
   ]
  }
 ],
 "metadata": {
  "kernelspec": {
   "display_name": "Python 3",
   "language": "python",
   "name": "python3"
  },
  "language_info": {
   "codemirror_mode": {
    "name": "ipython",
    "version": 3
   },
   "file_extension": ".py",
   "mimetype": "text/x-python",
   "name": "python",
   "nbconvert_exporter": "python",
   "pygments_lexer": "ipython3",
   "version": "3.8.5"
  }
 },
 "nbformat": 4,
 "nbformat_minor": 5
}
